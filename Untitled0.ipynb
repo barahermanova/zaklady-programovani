{
  "nbformat": 4,
  "nbformat_minor": 0,
  "metadata": {
    "colab": {
      "name": "Untitled0.ipynb",
      "provenance": [],
      "collapsed_sections": [],
      "authorship_tag": "ABX9TyNFUMlDK5Adal2WP+CqYI+C",
      "include_colab_link": true
    },
    "kernelspec": {
      "name": "python3",
      "display_name": "Python 3"
    }
  },
  "cells": [
    {
      "cell_type": "markdown",
      "metadata": {
        "id": "view-in-github",
        "colab_type": "text"
      },
      "source": [
        "<a href=\"https://colab.research.google.com/github/barahermanova/zaklady-programovani/blob/main/Untitled0.ipynb\" target=\"_parent\"><img src=\"https://colab.research.google.com/assets/colab-badge.svg\" alt=\"Open In Colab\"/></a>"
      ]
    },
    {
      "cell_type": "code",
      "metadata": {
        "id": "SGEzuMZRYEym",
        "outputId": "ec840a4a-bc6a-4418-e573-7f1e8df933e6",
        "colab": {
          "base_uri": "https://localhost:8080/"
        }
      },
      "source": [
        "1256983%28"
      ],
      "execution_count": null,
      "outputs": [
        {
          "output_type": "execute_result",
          "data": {
            "text/plain": [
              "7"
            ]
          },
          "metadata": {
            "tags": []
          },
          "execution_count": 3
        }
      ]
    },
    {
      "cell_type": "code",
      "metadata": {
        "id": "2Bd7oahFYOm1",
        "outputId": "7b95df85-4935-4a15-b6de-213c0b70b8b7",
        "colab": {
          "base_uri": "https://localhost:8080/"
        }
      },
      "source": [
        "12^58%15 < 8 or 3^5 > 100\n"
      ],
      "execution_count": null,
      "outputs": [
        {
          "output_type": "execute_result",
          "data": {
            "text/plain": [
              "True"
            ]
          },
          "metadata": {
            "tags": []
          },
          "execution_count": 4
        }
      ]
    },
    {
      "cell_type": "code",
      "metadata": {
        "id": "7YaIbI6BZGxW",
        "outputId": "68a372c3-f8f3-4740-951f-64b3437da034",
        "colab": {
          "base_uri": "https://localhost:8080/"
        }
      },
      "source": [
        "5*3^3 == 900/75"
      ],
      "execution_count": null,
      "outputs": [
        {
          "output_type": "execute_result",
          "data": {
            "text/plain": [
              "True"
            ]
          },
          "metadata": {
            "tags": []
          },
          "execution_count": 5
        }
      ]
    },
    {
      "cell_type": "code",
      "metadata": {
        "id": "9F6Tmi9MZbUu",
        "outputId": "9b0b8687-b216-4a48-8f30-bedb69978199",
        "colab": {
          "base_uri": "https://localhost:8080/",
          "height": 35
        }
      },
      "source": [
        "'python'[0:1:1]"
      ],
      "execution_count": null,
      "outputs": [
        {
          "output_type": "execute_result",
          "data": {
            "application/vnd.google.colaboratory.intrinsic+json": {
              "type": "string"
            },
            "text/plain": [
              "'p'"
            ]
          },
          "metadata": {
            "tags": []
          },
          "execution_count": 7
        }
      ]
    },
    {
      "cell_type": "code",
      "metadata": {
        "id": "DhfzzisFaNMR",
        "outputId": "46b779ca-cec2-4cd8-fb5f-41cad46260cc",
        "colab": {
          "base_uri": "https://localhost:8080/",
          "height": 35
        }
      },
      "source": [
        "'[[]]'[0:2:1]+'PYTHON'[::]+'[[]]'[2:4:1]"
      ],
      "execution_count": null,
      "outputs": [
        {
          "output_type": "execute_result",
          "data": {
            "application/vnd.google.colaboratory.intrinsic+json": {
              "type": "string"
            },
            "text/plain": [
              "'[[PYTHON]]'"
            ]
          },
          "metadata": {
            "tags": []
          },
          "execution_count": 9
        }
      ]
    },
    {
      "cell_type": "code",
      "metadata": {
        "id": "aTTWG_SCbCE3",
        "outputId": "97cd82e2-9555-4d2f-cb18-1811839c8804",
        "colab": {
          "base_uri": "https://localhost:8080/",
          "height": 35
        }
      },
      "source": [
        "'Python'[4:6:1]*4"
      ],
      "execution_count": null,
      "outputs": [
        {
          "output_type": "execute_result",
          "data": {
            "application/vnd.google.colaboratory.intrinsic+json": {
              "type": "string"
            },
            "text/plain": [
              "'onononon'"
            ]
          },
          "metadata": {
            "tags": []
          },
          "execution_count": 11
        }
      ]
    },
    {
      "cell_type": "code",
      "metadata": {
        "id": "davgp2D1bdZk",
        "outputId": "d336daf6-575b-4624-dd63-88124b52f7a0",
        "colab": {
          "base_uri": "https://localhost:8080/",
          "height": 35
        }
      },
      "source": [
        "'Perl'[2:3:1]*5"
      ],
      "execution_count": null,
      "outputs": [
        {
          "output_type": "execute_result",
          "data": {
            "application/vnd.google.colaboratory.intrinsic+json": {
              "type": "string"
            },
            "text/plain": [
              "'rrrrr'"
            ]
          },
          "metadata": {
            "tags": []
          },
          "execution_count": 12
        }
      ]
    },
    {
      "cell_type": "code",
      "metadata": {
        "id": "Occmacjbbo8R",
        "outputId": "77d918d9-a7e8-4605-9f1c-6264f278b5fd",
        "colab": {
          "base_uri": "https://localhost:8080/",
          "height": 35
        }
      },
      "source": [
        "'python'.upper()"
      ],
      "execution_count": null,
      "outputs": [
        {
          "output_type": "execute_result",
          "data": {
            "application/vnd.google.colaboratory.intrinsic+json": {
              "type": "string"
            },
            "text/plain": [
              "'PYTHON'"
            ]
          },
          "metadata": {
            "tags": []
          },
          "execution_count": 16
        }
      ]
    },
    {
      "cell_type": "code",
      "metadata": {
        "id": "rNn1M_KJcKsh",
        "outputId": "34cbd247-db08-47a3-d0ad-c1b6f06b3700",
        "colab": {
          "base_uri": "https://localhost:8080/",
          "height": 35
        }
      },
      "source": [
        "'pyt'.upper()+'hon'"
      ],
      "execution_count": null,
      "outputs": [
        {
          "output_type": "execute_result",
          "data": {
            "application/vnd.google.colaboratory.intrinsic+json": {
              "type": "string"
            },
            "text/plain": [
              "'PYThon'"
            ]
          },
          "metadata": {
            "tags": []
          },
          "execution_count": 17
        }
      ]
    },
    {
      "cell_type": "code",
      "metadata": {
        "id": "xLMW7qOGcmkd",
        "outputId": "59716125-d5ca-4a72-f871-ac1ab9735c87",
        "colab": {
          "base_uri": "https://localhost:8080/",
          "height": 35
        }
      },
      "source": [
        "'python'[0:1:1]*len('python')"
      ],
      "execution_count": null,
      "outputs": [
        {
          "output_type": "execute_result",
          "data": {
            "application/vnd.google.colaboratory.intrinsic+json": {
              "type": "string"
            },
            "text/plain": [
              "'pppppp'"
            ]
          },
          "metadata": {
            "tags": []
          },
          "execution_count": 20
        }
      ]
    },
    {
      "cell_type": "code",
      "metadata": {
        "id": "qUL9gB2ZdGGY",
        "outputId": "ff20f27f-4b1d-43f5-8d53-5b3181f0c47b",
        "colab": {
          "base_uri": "https://localhost:8080/",
          "height": 35
        }
      },
      "source": [
        "'git'[0:1:1]*len('git')"
      ],
      "execution_count": null,
      "outputs": [
        {
          "output_type": "execute_result",
          "data": {
            "application/vnd.google.colaboratory.intrinsic+json": {
              "type": "string"
            },
            "text/plain": [
              "'ggg'"
            ]
          },
          "metadata": {
            "tags": []
          },
          "execution_count": 21
        }
      ]
    },
    {
      "cell_type": "code",
      "metadata": {
        "id": "hEpky7cbeC_x",
        "outputId": "80660448-de0c-4871-e6d9-ed441762a9d1",
        "colab": {
          "base_uri": "https://localhost:8080/"
        }
      },
      "source": [
        "print(7+3*2)"
      ],
      "execution_count": null,
      "outputs": [
        {
          "output_type": "stream",
          "text": [
            "13\n"
          ],
          "name": "stdout"
        }
      ]
    },
    {
      "cell_type": "code",
      "metadata": {
        "id": "GJzGLZLsecuP",
        "outputId": "56575da4-8542-43da-d476-2ea55b03d96f",
        "colab": {
          "base_uri": "https://localhost:8080/"
        }
      },
      "source": [
        "print('7'+str(3*2))"
      ],
      "execution_count": null,
      "outputs": [
        {
          "output_type": "stream",
          "text": [
            "76\n"
          ],
          "name": "stdout"
        }
      ]
    },
    {
      "cell_type": "code",
      "metadata": {
        "id": "uCqLJeA6eoUO",
        "outputId": "27916437-32b7-4324-bb54-bca844fcb38b",
        "colab": {
          "base_uri": "https://localhost:8080/"
        }
      },
      "source": [
        "print('7'+'3*2')"
      ],
      "execution_count": null,
      "outputs": [
        {
          "output_type": "stream",
          "text": [
            "73*2\n"
          ],
          "name": "stdout"
        }
      ]
    },
    {
      "cell_type": "code",
      "metadata": {
        "id": "Km_KDz-qew3X",
        "outputId": "4fb9c2d8-2df2-4334-ae47-80f757e107fc",
        "colab": {
          "base_uri": "https://localhost:8080/",
          "height": 162
        }
      },
      "source": [
        "print('7'+3*2)"
      ],
      "execution_count": null,
      "outputs": [
        {
          "output_type": "error",
          "ename": "TypeError",
          "evalue": "ignored",
          "traceback": [
            "\u001b[0;31m---------------------------------------------------------------------------\u001b[0m",
            "\u001b[0;31mTypeError\u001b[0m                                 Traceback (most recent call last)",
            "\u001b[0;32m<ipython-input-25-412ffb6623ca>\u001b[0m in \u001b[0;36m<module>\u001b[0;34m()\u001b[0m\n\u001b[0;32m----> 1\u001b[0;31m \u001b[0mprint\u001b[0m\u001b[0;34m(\u001b[0m\u001b[0;34m'7'\u001b[0m\u001b[0;34m+\u001b[0m\u001b[0;36m3\u001b[0m\u001b[0;34m*\u001b[0m\u001b[0;36m2\u001b[0m\u001b[0;34m)\u001b[0m\u001b[0;34m\u001b[0m\u001b[0;34m\u001b[0m\u001b[0m\n\u001b[0m",
            "\u001b[0;31mTypeError\u001b[0m: must be str, not int"
          ]
        }
      ]
    },
    {
      "cell_type": "markdown",
      "metadata": {
        "id": "uAcYJyEDe2pN"
      },
      "source": [
        "v druhém případě máme 7 jako text po vynásobení 3*2 se 6 připíše k textu 7, ve třetím je to celé jako text a ve čtvrtém sčítáme \"hrušky s jabkama\" takže to vůbec nejde"
      ]
    },
    {
      "cell_type": "code",
      "metadata": {
        "id": "UvlYJS21fRLK",
        "outputId": "ffc3ec20-3c6d-4b35-fcf3-eef1c73b8839",
        "colab": {
          "base_uri": "https://localhost:8080/",
          "height": 35
        }
      },
      "source": [
        "hobby = 'sudoku'\n",
        "'My hobby is {0}'.format(hobby)"
      ],
      "execution_count": null,
      "outputs": [
        {
          "output_type": "execute_result",
          "data": {
            "application/vnd.google.colaboratory.intrinsic+json": {
              "type": "string"
            },
            "text/plain": [
              "'My hobby is sudoku'"
            ]
          },
          "metadata": {
            "tags": []
          },
          "execution_count": 33
        }
      ]
    },
    {
      "cell_type": "code",
      "metadata": {
        "id": "3VVrU6cThqtQ",
        "outputId": "d7e1d496-cd0f-4b28-9c1f-ec6e2160bdf0",
        "colab": {
          "base_uri": "https://localhost:8080/",
          "height": 35
        }
      },
      "source": [
        "mm = '2018-11-01'[5:7:1]\n",
        "dd = '2018-11-01'[8:10:1]\n",
        "'{1}'.format(mm, dd)+'/'+'{0}'.format(mm, dd)"
      ],
      "execution_count": null,
      "outputs": [
        {
          "output_type": "execute_result",
          "data": {
            "application/vnd.google.colaboratory.intrinsic+json": {
              "type": "string"
            },
            "text/plain": [
              "'01/11'"
            ]
          },
          "metadata": {
            "tags": []
          },
          "execution_count": 43
        }
      ]
    },
    {
      "cell_type": "code",
      "metadata": {
        "id": "R7T-Edn3jCwT",
        "outputId": "962302a4-e604-4058-ef46-7ccef9b7c44e",
        "colab": {
          "base_uri": "https://localhost:8080/"
        }
      },
      "source": [
        "my_list = ['hobby1', 'hobby2','hobby3','hobby4']\n",
        "my_list[0:1:]"
      ],
      "execution_count": null,
      "outputs": [
        {
          "output_type": "execute_result",
          "data": {
            "text/plain": [
              "['hobby1']"
            ]
          },
          "metadata": {
            "tags": []
          },
          "execution_count": 48
        }
      ]
    },
    {
      "cell_type": "code",
      "metadata": {
        "id": "6gi2_aV4kvMt",
        "outputId": "e84a627f-665e-42a2-b53b-1c8d2c343fa6",
        "colab": {
          "base_uri": "https://localhost:8080/",
          "height": 35
        }
      },
      "source": [
        "my_list = ['hobby1', 'hobby2','hobby3','hobby4']\n",
        "my_list[-1]"
      ],
      "execution_count": null,
      "outputs": [
        {
          "output_type": "execute_result",
          "data": {
            "application/vnd.google.colaboratory.intrinsic+json": {
              "type": "string"
            },
            "text/plain": [
              "'hobby4'"
            ]
          },
          "metadata": {
            "tags": []
          },
          "execution_count": 49
        }
      ]
    },
    {
      "cell_type": "code",
      "metadata": {
        "id": "WXh1rOxlk7iS",
        "outputId": "635893eb-321c-457d-a3f9-30249a21a5af",
        "colab": {
          "base_uri": "https://localhost:8080/"
        }
      },
      "source": [
        "my_list = ['hobby1', 'hobby2','hobby3','hobby4']\n",
        "del my_list[-1]\n",
        "my_list"
      ],
      "execution_count": null,
      "outputs": [
        {
          "output_type": "execute_result",
          "data": {
            "text/plain": [
              "['hobby1', 'hobby2', 'hobby3']"
            ]
          },
          "metadata": {
            "tags": []
          },
          "execution_count": 53
        }
      ]
    },
    {
      "cell_type": "code",
      "metadata": {
        "id": "MFiq4huIlWI8",
        "outputId": "4beecd22-0146-4907-d5ca-d48c650c3a96",
        "colab": {
          "base_uri": "https://localhost:8080/"
        }
      },
      "source": [
        "cities = ['Prague', 'Brno', 'Ostrava', 'Plzen', 'Liberec',\n",
        "'Olomouc', 'Usti nad Labem', 'Hradec Kralove', 'Ceske Budejovice', 'Pardubice']\n",
        "cities.sort()\n",
        "print(cities)\n"
      ],
      "execution_count": null,
      "outputs": [
        {
          "output_type": "stream",
          "text": [
            "['Brno', 'Ceske Budejovice', 'Hradec Kralove', 'Liberec', 'Olomouc', 'Ostrava', 'Pardubice', 'Plzen', 'Prague', 'Usti nad Labem']\n"
          ],
          "name": "stdout"
        }
      ]
    },
    {
      "cell_type": "code",
      "metadata": {
        "id": "sLq2XXREynqg",
        "outputId": "8b6f7c25-8c9d-41b8-d890-62d75ed1e50f",
        "colab": {
          "base_uri": "https://localhost:8080/"
        }
      },
      "source": [
        "alpha = set (['a', 'b', 'c', 'd', 'e', 'f', 'g', 'h', 'i', 'j', 'k', 'l', 'm', 'n', 'o', 'p', 'q', 'r', 's', 't', 'u', 'v', 'w', 'x', 'y', 'z'])\n",
        "alphabet = 'abcdefghijklmnopqrstuvwxyz'\n",
        "zen = '''Beaut\n",
        "iful is better than ugly. \n",
        "Explicit is better than implicit. \n",
        "Simple is better than complex. \n",
        "Complex is better than complicated. \n",
        "Flat is better than nested.\n",
        "Sparse is better than dense.\n",
        "Readability counts.\n",
        "Special cases aren't special enough to break the rules.\n",
        "Although practicality beats purity.\n",
        "Errors should never pass silently.\n",
        "Unless explicitly silenced.\n",
        "In the face of ambiguity, refuse the temptation to guess.\n",
        "There should be one-- and preferably only one --obvious way to do it.\n",
        "Although that way may not be obvious at first unless you're Dutch.\n",
        "Now is better than never.\n",
        "Although never is often better than *right* now.\n",
        "If the implementation is hard to explain, it's a bad idea.\n",
        "If the implementation is easy to explain, it may be a good idea.'''\n",
        "zenset = set ([])\n",
        "alphabetset = set ([])\n",
        "zen=zen.lower()\n",
        "for i in range(len(zen)):\n",
        "  zenset.add(zen[i])\n",
        "for j in range(len(alphabet)):\n",
        "  alphabetset.add(alphabet[j])\n",
        "print(alphabetset.difference(zenset))\n",
        "\n"
      ],
      "execution_count": null,
      "outputs": [
        {
          "output_type": "stream",
          "text": [
            "{'z', 'j', 'q'}\n"
          ],
          "name": "stdout"
        }
      ]
    },
    {
      "cell_type": "code",
      "metadata": {
        "id": "bXUpfNcgVztb",
        "outputId": "a5dd125a-6dd7-4c49-dffb-629eb48d67f5",
        "colab": {
          "base_uri": "https://localhost:8080/",
          "height": 35
        }
      },
      "source": [
        "info = {'Name':'John', 'Surname':'Doe'}\n",
        "info['Name']+'_'+info['Surname']"
      ],
      "execution_count": null,
      "outputs": [
        {
          "output_type": "execute_result",
          "data": {
            "application/vnd.google.colaboratory.intrinsic+json": {
              "type": "string"
            },
            "text/plain": [
              "'John_Doe'"
            ]
          },
          "metadata": {
            "tags": []
          },
          "execution_count": 10
        }
      ]
    },
    {
      "cell_type": "code",
      "metadata": {
        "id": "m_flTfgDYB5j",
        "outputId": "0e3ba9c3-9fef-4268-a5c1-3cbf479eac7e",
        "colab": {
          "base_uri": "https://localhost:8080/"
        }
      },
      "source": [
        "names_list = ['Jiri', 'Jan', 'Marie', 'Petr', 'Jana', 'Josef',\n",
        "'Pavel', 'Martin', 'Jaroslav', 'Tomas', 'Eva', 'Miroslav',\n",
        "'Hana', 'Anna', 'Zdenek', 'Frantisek', 'Vaclav', 'Michal',\n",
        "'Lenka', 'Katerina']\n",
        "name = input(\"your name: \")\n",
        "if name in names_list: print ('yay')\n",
        "else: print ('nay')"
      ],
      "execution_count": null,
      "outputs": [
        {
          "output_type": "stream",
          "text": [
            "your name: ahoj\n",
            "nay\n"
          ],
          "name": "stdout"
        }
      ]
    },
    {
      "cell_type": "code",
      "metadata": {
        "id": "LmSeW-9UZ7ZH",
        "outputId": "753bd648-b697-4e85-b27b-97734f2a6c94",
        "colab": {
          "base_uri": "https://localhost:8080/"
        }
      },
      "source": [
        "abc = {'a':'alfa', 'b':'bravo', 'c':'charlie', 'd':'delta',\n",
        "'e':'echo', 'f':'foxtrot', 'g':'golf', 'h':'hotel', 'i':'india',\n",
        "'j':'juliett', 'k':'kilo', 'l':'lima', 'm':'mike',\n",
        "'n':'november', 'o':'oscar', 'p':'papa', 'q':'quebec',\n",
        "'r':'romeo', 's':'sierra', 't':'tango', 'u':'uniform',\n",
        "'v':'victor', 'w':'whiskey', 'x':'x-ray', 'y':'yankee',\n",
        "'z':'zulu'}\n",
        "name = input(\"your name: \")\n",
        "for letter in name: print(abc[letter])"
      ],
      "execution_count": null,
      "outputs": [
        {
          "output_type": "stream",
          "text": [
            "your name: bara\n",
            "bravo\n",
            "alfa\n",
            "romeo\n",
            "alfa\n"
          ],
          "name": "stdout"
        }
      ]
    },
    {
      "cell_type": "code",
      "metadata": {
        "id": "KoPcay73hxKh",
        "outputId": "880b6aea-9406-4521-a9d0-ef44c2b4009c",
        "colab": {
          "base_uri": "https://localhost:8080/"
        }
      },
      "source": [
        "a = [[1,2,3], [4,5,6], [7,8,9]]\n",
        "b = []\n",
        "\n",
        "for i in range(len(a[0])):\n",
        "  b_row = []\n",
        "  for row in a:\n",
        "    b_row.append(row[i])\n",
        "  b.append(b_row)\n",
        "print(b)"
      ],
      "execution_count": null,
      "outputs": [
        {
          "output_type": "stream",
          "text": [
            "[[1, 4, 7], [2, 5, 8], [3, 6, 9]]\n"
          ],
          "name": "stdout"
        }
      ]
    },
    {
      "cell_type": "code",
      "metadata": {
        "id": "2pqiEme6sh_6",
        "outputId": "34bdc080-7521-4bc6-945d-dd4cdea7a5ba",
        "colab": {
          "base_uri": "https://localhost:8080/"
        }
      },
      "source": [
        "shop = []\n",
        "while len(shop)<=20: \n",
        "  if len(shop)==20:\n",
        "    print('You have reached the limit of 20 items')\n",
        "    print(shop)\n",
        "    break\n",
        "  item = input('Add new item or write stoplist: ')\n",
        "  if item==('stoplist'):\n",
        "    print('There are '+str(i)+' items on your list')\n",
        "    print(shop)\n",
        "  elif item in shop: \n",
        "    print(item+' is already on the list')\n",
        "  else: \n",
        "    shop.append(item)\n",
        "    print(item+' has been added to the list')\n",
        "  "
      ],
      "execution_count": null,
      "outputs": [
        {
          "output_type": "stream",
          "text": [
            "new item: a\n",
            "a has been added to the list\n",
            "new item: s\n",
            "s has been added to the list\n",
            "new item: d\n",
            "d has been added to the list\n",
            "new item: s\n",
            "s is already on the list\n",
            "new item: d\n",
            "d is already on the list\n",
            "new item: f\n",
            "f has been added to the list\n",
            "new item: g\n",
            "g has been added to the list\n",
            "new item: h\n",
            "h has been added to the list\n",
            "new item: j\n",
            "j has been added to the list\n",
            "new item: k\n",
            "k has been added to the list\n",
            "new item: +\n",
            "+ has been added to the list\n",
            "new item: ě\n",
            "ě has been added to the list\n",
            "new item: š\n",
            "š has been added to the list\n",
            "new item: č\n",
            "č has been added to the list\n",
            "new item: ř\n",
            "ř has been added to the list\n",
            "new item: l\n",
            "l has been added to the list\n",
            "new item: p\n",
            "p has been added to the list\n",
            "new item: o\n",
            "o has been added to the list\n",
            "new item: ok\n",
            "ok has been added to the list\n",
            "new item: ij\n",
            "ij has been added to the list\n",
            "new item: uh\n",
            "uh has been added to the list\n",
            "new item: zg\n",
            "zg has been added to the list\n",
            "You have reached the limit of 20 items\n",
            "['a', 's', 'd', 'f', 'g', 'h', 'j', 'k', '+', 'ě', 'š', 'č', 'ř', 'l', 'p', 'o', 'ok', 'ij', 'uh', 'zg']\n"
          ],
          "name": "stdout"
        }
      ]
    },
    {
      "cell_type": "code",
      "metadata": {
        "id": "DnBwLLIMDy_L",
        "outputId": "f902321c-86fd-461f-8273-df8c997ee027",
        "colab": {
          "base_uri": "https://localhost:8080/"
        }
      },
      "source": [
        "numbers = [1, 2, 3, 4, 5]\n",
        "for i in range(len(numbers)):\n",
        "  numbers[i]=numbers[i]*numbers[i]\n",
        "for j in range(len(numbers)):\n",
        "  numbers[j]=str(numbers[j])+' is my favourite number'\n",
        "  print(numbers[j])"
      ],
      "execution_count": 11,
      "outputs": [
        {
          "output_type": "stream",
          "text": [
            "1 is my favourite number\n",
            "4 is my favourite number\n",
            "9 is my favourite number\n",
            "16 is my favourite number\n",
            "25 is my favourite number\n"
          ],
          "name": "stdout"
        }
      ]
    },
    {
      "cell_type": "code",
      "metadata": {
        "id": "l8Zkx9THJML1",
        "outputId": "62a0175d-ab78-42b2-9207-6bee21d6166d",
        "colab": {
          "base_uri": "https://localhost:8080/"
        }
      },
      "source": [
        "seq = 'ACTGCTCAAG'\n",
        "apos = []\n",
        "n = 0\n",
        "for letter in seq:\n",
        "  if letter=='A':\n",
        "    apos.append(n)\n",
        "  n=n+1\n",
        "print(apos)\n",
        "    "
      ],
      "execution_count": 21,
      "outputs": [
        {
          "output_type": "stream",
          "text": [
            "[0, 7, 8]\n"
          ],
          "name": "stdout"
        }
      ]
    },
    {
      "cell_type": "code",
      "metadata": {
        "id": "70Cdu2WGNPkW",
        "outputId": "eb3181e1-ca35-4b0d-fbd6-ba9bec538eea",
        "colab": {
          "base_uri": "https://localhost:8080/"
        }
      },
      "source": [
        "seq = 'ACTGCTCAAG'\n",
        "apos = []\n",
        "n = seq.find('A')\n",
        "apos.append(n)\n",
        "for i in range(len(seq)):\n",
        "  n=seq.find('A',n+1)\n",
        "  if n==-1: break\n",
        "  apos.append(n)\n",
        "print(apos)"
      ],
      "execution_count": 30,
      "outputs": [
        {
          "output_type": "stream",
          "text": [
            "[0, 7, 8]\n"
          ],
          "name": "stdout"
        }
      ]
    },
    {
      "cell_type": "code",
      "metadata": {
        "id": "gfMgNXJQQqSr",
        "outputId": "95de8f81-7389-4b2b-ed52-748a41d6ec09",
        "colab": {
          "base_uri": "https://localhost:8080/"
        }
      },
      "source": [
        "scores = {'John' : 10, 'Emily' : 35, 'Matthew' : 50}\n",
        "y = list(scores.keys())\n",
        "x = list(scores.values())\n",
        "for i in range(len(x)):\n",
        "  x[i]=x[i]*3\n",
        "  scores[y[i]] = x[i]\n",
        "print(scores)\n"
      ],
      "execution_count": 64,
      "outputs": [
        {
          "output_type": "stream",
          "text": [
            "{'John': 30, 'Emily': 105, 'Matthew': 150}\n"
          ],
          "name": "stdout"
        }
      ]
    },
    {
      "cell_type": "code",
      "metadata": {
        "id": "_keLOiNGWd4s",
        "outputId": "02101bbd-6ff7-4868-a436-acae3c994f90",
        "colab": {
          "base_uri": "https://localhost:8080/"
        }
      },
      "source": [
        "def division(x,y):\n",
        "  d=x/y\n",
        "  return d\n",
        "a=int(input('Give me X:'))\n",
        "b=int(input('Give me Y:'))\n",
        "print(division(a,b))\n"
      ],
      "execution_count": 66,
      "outputs": [
        {
          "output_type": "stream",
          "text": [
            "Give me X:55\n",
            "Give me Y:11\n",
            "5.0\n"
          ],
          "name": "stdout"
        }
      ]
    },
    {
      "cell_type": "code",
      "metadata": {
        "id": "-8uK-QyqZS-P",
        "outputId": "403c7299-15c3-4152-b90a-e081b3bd570f",
        "colab": {
          "base_uri": "https://localhost:8080/"
        }
      },
      "source": [
        "def sum_list(y):\n",
        "  s=0\n",
        "  for i in range(len(y)):\n",
        "    s=s+y[i]\n",
        "  return s\n",
        "numbers = [8, 666, 911, 42]\n",
        "print(sum_list(numbers))"
      ],
      "execution_count": 78,
      "outputs": [
        {
          "output_type": "stream",
          "text": [
            "1627\n"
          ],
          "name": "stdout"
        }
      ]
    },
    {
      "cell_type": "code",
      "metadata": {
        "id": "js-HNBSzcfO4",
        "outputId": "33cf1875-3932-4bce-a3d9-2a415fe6cfdd",
        "colab": {
          "base_uri": "https://localhost:8080/"
        }
      },
      "source": [
        "biglist = lambda a : print ('BIGLIST') if (len(a)>5) else print('smalllist')\n",
        "list1 = [1,3,5,6,7,99,420] \n",
        "list2 = ['Ahoj']\n",
        "biglist(list1)\n",
        "biglist(list2)"
      ],
      "execution_count": 83,
      "outputs": [
        {
          "output_type": "stream",
          "text": [
            "BIGLIST\n",
            "smallist\n"
          ],
          "name": "stdout"
        }
      ]
    },
    {
      "cell_type": "code",
      "metadata": {
        "id": "NHjhmDvPdvoc",
        "outputId": "44477e17-29f9-4bf0-dd93-38240cb39c42",
        "colab": {
          "base_uri": "https://localhost:8080/"
        }
      },
      "source": [
        "TongueBreaker = 'Peter Piper picked a peck of pickled peppers. A peck of pickled peppers Peter Piper picked. If Peter Piper picked a peck of pickled peppers, where’s the peck of pickled peppers Peter Piper picked?'\n",
        "def CountLetters(s):\n",
        "  uletters= 'ABCDEFGHIJKLMNOPQRSTUVWXYZ'\n",
        "  lletters= 'abcdefghijklmnopqrstuvwxyz'\n",
        "  u=0\n",
        "  l=0\n",
        "  print('String:'+s)\n",
        "  for i in range(len(s)):\n",
        "    if s[i] in uletters : u+= 1\n",
        "    elif s[i] in lletters :l+= 1\n",
        "  print('uppercases:'+ str(u))\n",
        "  print('lowercases:'+ str(l))\n",
        "CountLetters(TongueBreaker)"
      ],
      "execution_count": 109,
      "outputs": [
        {
          "output_type": "stream",
          "text": [
            "String:Peter Piper picked a peck of pickled peppers. A peck of pickled peppers Peter Piper picked. If Peter Piper picked a peck of pickled peppers, where’s the peck of pickled peppers Peter Piper picked?\n",
            "uppercases:10\n",
            "lowercases:148\n"
          ],
          "name": "stdout"
        }
      ]
    },
    {
      "cell_type": "code",
      "metadata": {
        "id": "fibjcKBbkPQ-",
        "outputId": "f12083a1-f38e-4665-8a4e-32fe2bb25953",
        "colab": {
          "base_uri": "https://localhost:8080/"
        }
      },
      "source": [
        "def MealVouchers(x,y):\n",
        "  c = int(x/y)\n",
        "  d = x%y\n",
        "  return c,d \n",
        "x = int(input('Meal cost: '))\n",
        "y = int(input('Voucher value: '))\n",
        "print('Lunch cost: '+str(x)+' CZK')\n",
        "print('Vouchers: '+str(y)+' CZK')\n",
        "mv = MealVouchers(x,y)\n",
        "print('Voucher pcs: '+str(mv[0]))\n",
        "print('Pay in cash: '+str(mv[1]))\n"
      ],
      "execution_count": 126,
      "outputs": [
        {
          "output_type": "stream",
          "text": [
            "Meal cost: 1000\n",
            "Voucher value: 120\n",
            "Lunch cost: 1000 CZK\n",
            "Vouchers: 120 CZK\n",
            "Voucher pcs: 8\n",
            "Pay in cash: 40\n"
          ],
          "name": "stdout"
        }
      ]
    },
    {
      "cell_type": "code",
      "metadata": {
        "id": "0t1lsQo6qQuS",
        "outputId": "8efca177-a476-453d-fe17-22d441e4ada9",
        "colab": {
          "base_uri": "https://localhost:8080/"
        }
      },
      "source": [
        "def factorial_compute(x):\n",
        "  if x==1:\n",
        "    return 1\n",
        "  elif x==0:\n",
        "    return 1\n",
        "  else:  return x*factorial_compute(x-1)\n",
        "x=int(input('Enter number to compute factorial of:'))\n",
        "print(factorial_compute(x))"
      ],
      "execution_count": 140,
      "outputs": [
        {
          "output_type": "stream",
          "text": [
            "Enter number to compute factorial of:20\n",
            "2432902008176640000\n"
          ],
          "name": "stdout"
        }
      ]
    },
    {
      "cell_type": "code",
      "metadata": {
        "id": "qTxt4czJuOpc"
      },
      "source": [
        ""
      ],
      "execution_count": null,
      "outputs": []
    }
  ]
}