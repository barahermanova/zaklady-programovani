{
  "nbformat": 4,
  "nbformat_minor": 0,
  "metadata": {
    "colab": {
      "name": "python_errors_py.ipynb",
      "provenance": [],
      "collapsed_sections": [],
      "authorship_tag": "ABX9TyMpvv6xAE8y9Ejq/ndeaunR",
      "include_colab_link": true
    },
    "kernelspec": {
      "name": "python3",
      "display_name": "Python 3"
    }
  },
  "cells": [
    {
      "cell_type": "markdown",
      "metadata": {
        "id": "view-in-github",
        "colab_type": "text"
      },
      "source": [
        "<a href=\"https://colab.research.google.com/github/barahermanova/zaklady-programovani/blob/main/python_errors_py.ipynb\" target=\"_parent\"><img src=\"https://colab.research.google.com/assets/colab-badge.svg\" alt=\"Open In Colab\"/></a>"
      ]
    },
    {
      "cell_type": "code",
      "metadata": {
        "id": "dwRiAARr-dt2",
        "colab": {
          "base_uri": "https://localhost:8080/"
        },
        "outputId": "1fbd4bb4-f951-4a29-8c47-3a5b27172488"
      },
      "source": [
        "seasons = ['Spring', 'Summer', 'Fall', 'Winter']\n",
        "print('My favorite season is ', seasons[3])"
      ],
      "execution_count": null,
      "outputs": [
        {
          "output_type": "stream",
          "text": [
            "My favorite season is  Winter\n"
          ],
          "name": "stdout"
        }
      ]
    },
    {
      "cell_type": "code",
      "metadata": {
        "id": "v1espNGhAr2G",
        "colab": {
          "base_uri": "https://localhost:8080/"
        },
        "outputId": "dbb03df4-df18-4fc5-8af3-b2efd9dd2300"
      },
      "source": [
        "for number in range(10):\n",
        "  # use a if the number is a multiple of 3, otherwise use b\n",
        "  if (number % 3) == 0:\n",
        "    message = \"a\"\n",
        "  else:\n",
        "    message = \"b\"\n",
        "print(message)"
      ],
      "execution_count": null,
      "outputs": [
        {
          "output_type": "stream",
          "text": [
            "a\n"
          ],
          "name": "stdout"
        }
      ]
    },
    {
      "cell_type": "code",
      "metadata": {
        "id": "cWK2VqdlA9FS",
        "colab": {
          "base_uri": "https://localhost:8080/",
          "height": 248
        },
        "outputId": "bc0adf8c-61cd-4be8-86da-9cbe4d28548d"
      },
      "source": [
        "name=input('insert your name:')\n",
        "if not name.find(' ')==(-1):\n",
        "  raise Exception('Name cannot contain any spaces')\n",
        "if not name.isalpha():\n",
        "  raise Exception('Name cannot contain a number')\n",
        "if name[1].islower(): \n",
        "  raise Exception('Name must start with capital letter')\n",
        "print(name)"
      ],
      "execution_count": 11,
      "outputs": [
        {
          "output_type": "stream",
          "text": [
            "insert your name:Da Vid\n"
          ],
          "name": "stdout"
        },
        {
          "output_type": "error",
          "ename": "Exception",
          "evalue": "ignored",
          "traceback": [
            "\u001b[0;31m---------------------------------------------------------------------------\u001b[0m",
            "\u001b[0;31mException\u001b[0m                                 Traceback (most recent call last)",
            "\u001b[0;32m<ipython-input-11-722786ccad0e>\u001b[0m in \u001b[0;36m<module>\u001b[0;34m()\u001b[0m\n\u001b[1;32m      1\u001b[0m \u001b[0mname\u001b[0m\u001b[0;34m=\u001b[0m\u001b[0minput\u001b[0m\u001b[0;34m(\u001b[0m\u001b[0;34m'insert your name:'\u001b[0m\u001b[0;34m)\u001b[0m\u001b[0;34m\u001b[0m\u001b[0;34m\u001b[0m\u001b[0m\n\u001b[1;32m      2\u001b[0m \u001b[0;32mif\u001b[0m \u001b[0;32mnot\u001b[0m \u001b[0mname\u001b[0m\u001b[0;34m.\u001b[0m\u001b[0mfind\u001b[0m\u001b[0;34m(\u001b[0m\u001b[0;34m' '\u001b[0m\u001b[0;34m)\u001b[0m\u001b[0;34m==\u001b[0m\u001b[0;34m(\u001b[0m\u001b[0;34m-\u001b[0m\u001b[0;36m1\u001b[0m\u001b[0;34m)\u001b[0m\u001b[0;34m:\u001b[0m\u001b[0;34m\u001b[0m\u001b[0;34m\u001b[0m\u001b[0m\n\u001b[0;32m----> 3\u001b[0;31m   \u001b[0;32mraise\u001b[0m \u001b[0mException\u001b[0m\u001b[0;34m(\u001b[0m\u001b[0;34m'Name cannot contain any spaces'\u001b[0m\u001b[0;34m)\u001b[0m\u001b[0;34m\u001b[0m\u001b[0;34m\u001b[0m\u001b[0m\n\u001b[0m\u001b[1;32m      4\u001b[0m \u001b[0;32mif\u001b[0m \u001b[0;32mnot\u001b[0m \u001b[0mname\u001b[0m\u001b[0;34m.\u001b[0m\u001b[0misalpha\u001b[0m\u001b[0;34m(\u001b[0m\u001b[0;34m)\u001b[0m\u001b[0;34m:\u001b[0m\u001b[0;34m\u001b[0m\u001b[0;34m\u001b[0m\u001b[0m\n\u001b[1;32m      5\u001b[0m   \u001b[0;32mraise\u001b[0m \u001b[0mException\u001b[0m\u001b[0;34m(\u001b[0m\u001b[0;34m'Name cannot contain a number'\u001b[0m\u001b[0;34m)\u001b[0m\u001b[0;34m\u001b[0m\u001b[0;34m\u001b[0m\u001b[0m\n",
            "\u001b[0;31mException\u001b[0m: Name cannot contain any spaces"
          ]
        }
      ]
    },
    {
      "cell_type": "code",
      "metadata": {
        "colab": {
          "base_uri": "https://localhost:8080/"
        },
        "id": "IOCExomN1F3d",
        "outputId": "1e923bfa-46a5-4928-96ff-d1fdd1141b0f"
      },
      "source": [
        "Numberone='a'\n",
        "while 1:\n",
        "  Numberone=input('Insert first number:')\n",
        "  try: \n",
        "    Numberone=int(Numberone)\n",
        "    break\n",
        "  except:\n",
        "    print('Must be an integer')\n",
        "while 1:\n",
        "  Numbertwo=input('Insert second number:')\n",
        "  try: \n",
        "    Numbertwo=int(Numbertwo)\n",
        "    print(Numberone/Numbertwo)    \n",
        "    break\n",
        "  except:\n",
        "    print('Must be an integer different from 0') "
      ],
      "execution_count": 30,
      "outputs": [
        {
          "output_type": "stream",
          "text": [
            "Insert first number:9\n",
            "Insert second number:T\n",
            "Must be an integer different from 0\n",
            "Insert second number:0\n",
            "Must be an integer different from 0\n",
            "Insert second number:š\n",
            "Must be an integer different from 0\n",
            "Insert second number:3\n",
            "3.0\n"
          ],
          "name": "stdout"
        }
      ]
    },
    {
      "cell_type": "code",
      "metadata": {
        "colab": {
          "base_uri": "https://localhost:8080/"
        },
        "id": "c9ziUFepEL9o",
        "outputId": "bede2f7c-a0f7-4144-b3eb-abe4e70cb578"
      },
      "source": [
        "year = int(input('Greetings! What is your year of origin? '))\n",
        "'jedno =, závorka, uvozovky, mezera,int(input)' \n",
        "if year <= 1900:\n",
        "  'chybějící dvojtečka'\n",
        "  print('''Woah, that's the past!''')\n",
        "  'uvozovky se tloukly s apostrofem, mezera po print'\n",
        "elif (year > 1900) & (year < 2020):\n",
        "  'elif na jiné úrovni jako if, dvě &&, podmínky nebyly v závorce'\n",
        "  print(\"That's totally the present!\")\n",
        "else:\n",
        "  'elif místo else'\n",
        "  print(\"Far out, that's the future!!\")\n",
        "  'odsazení, mezera po print'"
      ],
      "execution_count": 65,
      "outputs": [
        {
          "output_type": "stream",
          "text": [
            "Greetings! What is your year of origin? 1900\n",
            "Woah, that's the past!\n"
          ],
          "name": "stdout"
        }
      ]
    }
  ]
}