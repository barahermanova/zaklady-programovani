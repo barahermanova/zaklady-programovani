{
  "nbformat": 4,
  "nbformat_minor": 0,
  "metadata": {
    "colab": {
      "name": "python_functions_py",
      "provenance": [],
      "collapsed_sections": [],
      "authorship_tag": "ABX9TyNQclaWMdK1uPg3DPVKNNmT",
      "include_colab_link": true
    },
    "kernelspec": {
      "name": "python3",
      "display_name": "Python 3"
    }
  },
  "cells": [
    {
      "cell_type": "markdown",
      "metadata": {
        "id": "view-in-github",
        "colab_type": "text"
      },
      "source": [
        "<a href=\"https://colab.research.google.com/github/barahermanova/zaklady-programovani/blob/main/python_functions_py.ipynb\" target=\"_parent\"><img src=\"https://colab.research.google.com/assets/colab-badge.svg\" alt=\"Open In Colab\"/></a>"
      ]
    },
    {
      "cell_type": "code",
      "metadata": {
        "id": "e2yRFQSipGO7",
        "outputId": "5220e63d-10e3-41c3-a41b-0d951f0d6788",
        "colab": {
          "base_uri": "https://localhost:8080/"
        }
      },
      "source": [
        "def division(x,y):\n",
        "  d=x/y\n",
        "  return d\n",
        "a=int(input('Give me X:'))\n",
        "b=int(input('Give me Y:'))\n",
        "print(division(a,b))"
      ],
      "execution_count": 1,
      "outputs": [
        {
          "output_type": "stream",
          "text": [
            "Give me X:9\n",
            "Give me Y:3\n",
            "3.0\n"
          ],
          "name": "stdout"
        }
      ]
    },
    {
      "cell_type": "code",
      "metadata": {
        "id": "lTlMMvIxpVSV",
        "outputId": "65015ccc-5039-465e-b0cb-41613b485493",
        "colab": {
          "base_uri": "https://localhost:8080/"
        }
      },
      "source": [
        "def sum_list(y):\n",
        "  s=0\n",
        "  for i in range(len(y)):\n",
        "    s=s+y[i]\n",
        "  return s\n",
        "numbers = [8, 626, 911, 42]\n",
        "print(sum_list(numbers))"
      ],
      "execution_count": 2,
      "outputs": [
        {
          "output_type": "stream",
          "text": [
            "1587\n"
          ],
          "name": "stdout"
        }
      ]
    },
    {
      "cell_type": "code",
      "metadata": {
        "id": "6SUlXEZwpZc2",
        "outputId": "1ce985c4-8734-4e19-d33c-16165733b084",
        "colab": {
          "base_uri": "https://localhost:8080/"
        }
      },
      "source": [
        "biglist = lambda a : print ('BIGLIST') if (len(a)>5) else print('smalllist')\n",
        "list1 = [1,3,5,6,7,99,420] \n",
        "list2 = ['Ahoj']\n",
        "biglist(list1)\n",
        "biglist(list2)"
      ],
      "execution_count": 3,
      "outputs": [
        {
          "output_type": "stream",
          "text": [
            "BIGLIST\n",
            "smalllist\n"
          ],
          "name": "stdout"
        }
      ]
    },
    {
      "cell_type": "code",
      "metadata": {
        "id": "AUSyOMhXpdS1",
        "outputId": "b3e56ec3-1963-4824-a04c-f04eb5f6653b",
        "colab": {
          "base_uri": "https://localhost:8080/"
        }
      },
      "source": [
        "TongueBreaker = 'Peter Piper picked a peck of pickled peppers. A peck of pickled peppers Peter Piper picked. If Peter Piper picked a peck of pickled peppers, where’s the peck of pickled peppers Peter Piper picked?'\n",
        "def CountLetters(s):\n",
        "  uletters= 'ABCDEFGHIJKLMNOPQRSTUVWXYZ'\n",
        "  lletters= 'abcdefghijklmnopqrstuvwxyz'\n",
        "  u=0\n",
        "  l=0\n",
        "  print('String:'+s)\n",
        "  for i in range(len(s)):\n",
        "    if s[i] in uletters : u+= 1\n",
        "    elif s[i] in lletters :l+= 1\n",
        "  print('uppercases:'+ str(u))\n",
        "  print('lowercases:'+ str(l))\n",
        "CountLetters(TongueBreaker)"
      ],
      "execution_count": 4,
      "outputs": [
        {
          "output_type": "stream",
          "text": [
            "String:Peter Piper picked a peck of pickled peppers. A peck of pickled peppers Peter Piper picked. If Peter Piper picked a peck of pickled peppers, where’s the peck of pickled peppers Peter Piper picked?\n",
            "uppercases:10\n",
            "lowercases:148\n"
          ],
          "name": "stdout"
        }
      ]
    },
    {
      "cell_type": "code",
      "metadata": {
        "id": "rJ2YpndPpgwa",
        "outputId": "42b5e5c5-21cc-43cb-9cf5-214ffbea4fd7",
        "colab": {
          "base_uri": "https://localhost:8080/"
        }
      },
      "source": [
        "def MealVouchers(x,y):\n",
        "  c = int(x/y)\n",
        "  d = x%y\n",
        "  return c,d \n",
        "x = int(input('Meal cost: '))\n",
        "y = int(input('Voucher value: '))\n",
        "print('Lunch cost: '+str(x)+' CZK')\n",
        "print('Vouchers: '+str(y)+' CZK')\n",
        "mv = MealVouchers(x,y)\n",
        "print('Voucher pcs: '+str(mv[0]))\n",
        "print('Pay in cash: '+str(mv[1]))"
      ],
      "execution_count": 5,
      "outputs": [
        {
          "output_type": "stream",
          "text": [
            "Meal cost: 700\n",
            "Voucher value: 34\n",
            "Lunch cost: 700 CZK\n",
            "Vouchers: 34 CZK\n",
            "Voucher pcs: 20\n",
            "Pay in cash: 20\n"
          ],
          "name": "stdout"
        }
      ]
    },
    {
      "cell_type": "code",
      "metadata": {
        "id": "kzXPc9WApnHl",
        "outputId": "150908b2-4078-4f77-e257-86396f31fcf7",
        "colab": {
          "base_uri": "https://localhost:8080/"
        }
      },
      "source": [
        "def factorial_compute(x):\n",
        "  if x==1:\n",
        "    return 1\n",
        "  elif x==0:\n",
        "    return 1\n",
        "  else:  return x*factorial_compute(x-1)\n",
        "x=int(input('Enter number to compute factorial of:'))\n",
        "print(factorial_compute(x))"
      ],
      "execution_count": 6,
      "outputs": [
        {
          "output_type": "stream",
          "text": [
            "Enter number to compute factorial of:5\n",
            "120\n"
          ],
          "name": "stdout"
        }
      ]
    }
  ]
}