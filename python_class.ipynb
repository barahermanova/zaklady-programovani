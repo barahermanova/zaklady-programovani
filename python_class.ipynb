{
  "nbformat": 4,
  "nbformat_minor": 0,
  "metadata": {
    "colab": {
      "name": "python_class.ipynb",
      "provenance": [],
      "collapsed_sections": [],
      "authorship_tag": "ABX9TyOZVGwQY8TheBXwJ53pJ9u1",
      "include_colab_link": true
    },
    "kernelspec": {
      "name": "python3",
      "display_name": "Python 3"
    }
  },
  "cells": [
    {
      "cell_type": "markdown",
      "metadata": {
        "id": "view-in-github",
        "colab_type": "text"
      },
      "source": [
        "<a href=\"https://colab.research.google.com/github/barahermanova/zaklady-programovani/blob/main/python_class.ipynb\" target=\"_parent\"><img src=\"https://colab.research.google.com/assets/colab-badge.svg\" alt=\"Open In Colab\"/></a>"
      ]
    },
    {
      "cell_type": "code",
      "metadata": {
        "colab": {
          "base_uri": "https://localhost:8080/"
        },
        "id": "6p9OL7ycqm62",
        "outputId": "746dbbf1-2fba-4dc5-e2df-fb2d013fdb90"
      },
      "source": [
        "class Animal:\r\n",
        "  def __init__(self, name):\r\n",
        "    self.name = name\r\n",
        "  def printname(self):\r\n",
        "    print(self.name)\r\n",
        "class Cat(Animal):\r\n",
        "  purr_sound = \"insert sound\"\r\n",
        "  def printsound (self):\r\n",
        "    print(Cat.purr_sound)\r\n",
        "  def __init__(self, catname):\r\n",
        "    self.catname = catname\r\n",
        "  def printall(self):\r\n",
        "    print(self.catname +\" \" + Cat.purr_sound)\r\n",
        "p1 = Animal(\"Pluto\")\r\n",
        "p1.printname()\r\n",
        "p2 = Cat(\"Sandy\")\r\n",
        "p2.printsound()\r\n",
        "p2.printall()\r\n"
      ],
      "execution_count": 31,
      "outputs": [
        {
          "output_type": "stream",
          "text": [
            "Pluto\n",
            "insert sound\n",
            "Sandy insert sound\n"
          ],
          "name": "stdout"
        }
      ]
    }
  ]
}