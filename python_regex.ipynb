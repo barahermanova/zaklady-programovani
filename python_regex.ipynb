{
  "nbformat": 4,
  "nbformat_minor": 0,
  "metadata": {
    "colab": {
      "name": "regex.ipynb",
      "provenance": [],
      "collapsed_sections": [],
      "authorship_tag": "ABX9TyOsif12kcg1Nd6gTCOLinBx",
      "include_colab_link": true
    },
    "kernelspec": {
      "name": "python3",
      "display_name": "Python 3"
    }
  },
  "cells": [
    {
      "cell_type": "markdown",
      "metadata": {
        "id": "view-in-github",
        "colab_type": "text"
      },
      "source": [
        "<a href=\"https://colab.research.google.com/github/barahermanova/zaklady-programovani/blob/main/python_regex.ipynb\" target=\"_parent\"><img src=\"https://colab.research.google.com/assets/colab-badge.svg\" alt=\"Open In Colab\"/></a>"
      ]
    },
    {
      "cell_type": "code",
      "metadata": {
        "colab": {
          "base_uri": "https://localhost:8080/",
          "height": 0
        },
        "id": "GhGfZilXBlqR",
        "outputId": "f4412110-fbe9-4530-d7ba-541474f70a80"
      },
      "source": [
        "import re\n",
        "def name():\n",
        "  isletter=0\n",
        "  isupper=0\n",
        "  while not (isletter and isupper) :\n",
        "    yourname = input (\"insert your name: \")\n",
        "    yourname_2 = re.sub(\"[^a-zA-Z]\",\"666\",yourname)\n",
        "    if yourname == yourname_2: isletter = 1\n",
        "    else:\n",
        "      isletter=0\n",
        "      print(\"your name must be letters only\")\n",
        "    Uppercase = re.findall(\"^[A-Z]\",yourname)\n",
        "    if Uppercase: isupper=1\n",
        "    else:\n",
        "      isupper=0\n",
        "      print(\"your name must start with upper case letter\")\n",
        "  print(yourname)\n",
        "name()"
      ],
      "execution_count": 7,
      "outputs": [
        {
          "output_type": "stream",
          "text": [
            "insert your name: David6\n",
            "your name must be letters only\n",
            "insert your name: david888\n",
            "your name must be letters only\n",
            "your name must start with upper case letter\n",
            "insert your name: David\n",
            "David\n"
          ],
          "name": "stdout"
        }
      ]
    },
    {
      "cell_type": "code",
      "metadata": {
        "colab": {
          "base_uri": "https://localhost:8080/"
        },
        "id": "Ft96JOvy6V5o",
        "outputId": "3836d8b4-5186-4bf9-cce9-7c51e63eecf2"
      },
      "source": [
        "import re\r\n",
        "re.findall((\"o.*[.]|a.*[.]\"), (\"\"\"Using your text editor, find using regex and count in the Zen of\r\n",
        "Python (e.g., import this)\r\n",
        "Lines where there is letter a or o before . (dot)\r\n",
        "Alphanumeric symbols\r\n",
        "T letter (uppercase and lowercase) is repeated two times\r\n",
        "T (uppercase and lowercase) letter is repeated 1 to 2 times TT\"\"\"))"
      ],
      "execution_count": 24,
      "outputs": [
        {
          "output_type": "execute_result",
          "data": {
            "text/plain": [
              "['on (e.g.', 'a or o before .']"
            ]
          },
          "metadata": {
            "tags": []
          },
          "execution_count": 24
        }
      ]
    },
    {
      "cell_type": "code",
      "metadata": {
        "colab": {
          "base_uri": "https://localhost:8080/"
        },
        "id": "HJkR87Lz782p",
        "outputId": "f92aab7b-13d6-4c0e-f6ed-962290ea84a5"
      },
      "source": [
        "import re\r\n",
        "re.findall((\"[A-Z]|[a-z]|[0-9]\"), (\"\"\"Using your text editor, find using regex and count in the Zen of\r\n",
        "Python (e.g., import this)\r\n",
        "Lines where there is letter a or o before . (dot)\r\n",
        "Alphanumeric symbols\r\n",
        "T letter (uppercase and lowercase) is repeated two times\r\n",
        "T (uppercase and lowercase) letter is repeated 1 to 2 times\r\n",
        "\"\"\"))"
      ],
      "execution_count": 26,
      "outputs": [
        {
          "output_type": "execute_result",
          "data": {
            "text/plain": [
              "['U',\n",
              " 's',\n",
              " 'i',\n",
              " 'n',\n",
              " 'g',\n",
              " 'y',\n",
              " 'o',\n",
              " 'u',\n",
              " 'r',\n",
              " 't',\n",
              " 'e',\n",
              " 'x',\n",
              " 't',\n",
              " 'e',\n",
              " 'd',\n",
              " 'i',\n",
              " 't',\n",
              " 'o',\n",
              " 'r',\n",
              " 'f',\n",
              " 'i',\n",
              " 'n',\n",
              " 'd',\n",
              " 'u',\n",
              " 's',\n",
              " 'i',\n",
              " 'n',\n",
              " 'g',\n",
              " 'r',\n",
              " 'e',\n",
              " 'g',\n",
              " 'e',\n",
              " 'x',\n",
              " 'a',\n",
              " 'n',\n",
              " 'd',\n",
              " 'c',\n",
              " 'o',\n",
              " 'u',\n",
              " 'n',\n",
              " 't',\n",
              " 'i',\n",
              " 'n',\n",
              " 't',\n",
              " 'h',\n",
              " 'e',\n",
              " 'Z',\n",
              " 'e',\n",
              " 'n',\n",
              " 'o',\n",
              " 'f',\n",
              " 'P',\n",
              " 'y',\n",
              " 't',\n",
              " 'h',\n",
              " 'o',\n",
              " 'n',\n",
              " 'e',\n",
              " 'g',\n",
              " 'i',\n",
              " 'm',\n",
              " 'p',\n",
              " 'o',\n",
              " 'r',\n",
              " 't',\n",
              " 't',\n",
              " 'h',\n",
              " 'i',\n",
              " 's',\n",
              " 'L',\n",
              " 'i',\n",
              " 'n',\n",
              " 'e',\n",
              " 's',\n",
              " 'w',\n",
              " 'h',\n",
              " 'e',\n",
              " 'r',\n",
              " 'e',\n",
              " 't',\n",
              " 'h',\n",
              " 'e',\n",
              " 'r',\n",
              " 'e',\n",
              " 'i',\n",
              " 's',\n",
              " 'l',\n",
              " 'e',\n",
              " 't',\n",
              " 't',\n",
              " 'e',\n",
              " 'r',\n",
              " 'a',\n",
              " 'o',\n",
              " 'r',\n",
              " 'o',\n",
              " 'b',\n",
              " 'e',\n",
              " 'f',\n",
              " 'o',\n",
              " 'r',\n",
              " 'e',\n",
              " 'd',\n",
              " 'o',\n",
              " 't',\n",
              " 'A',\n",
              " 'l',\n",
              " 'p',\n",
              " 'h',\n",
              " 'a',\n",
              " 'n',\n",
              " 'u',\n",
              " 'm',\n",
              " 'e',\n",
              " 'r',\n",
              " 'i',\n",
              " 'c',\n",
              " 's',\n",
              " 'y',\n",
              " 'm',\n",
              " 'b',\n",
              " 'o',\n",
              " 'l',\n",
              " 's',\n",
              " 'T',\n",
              " 'l',\n",
              " 'e',\n",
              " 't',\n",
              " 't',\n",
              " 'e',\n",
              " 'r',\n",
              " 'u',\n",
              " 'p',\n",
              " 'p',\n",
              " 'e',\n",
              " 'r',\n",
              " 'c',\n",
              " 'a',\n",
              " 's',\n",
              " 'e',\n",
              " 'a',\n",
              " 'n',\n",
              " 'd',\n",
              " 'l',\n",
              " 'o',\n",
              " 'w',\n",
              " 'e',\n",
              " 'r',\n",
              " 'c',\n",
              " 'a',\n",
              " 's',\n",
              " 'e',\n",
              " 'i',\n",
              " 's',\n",
              " 'r',\n",
              " 'e',\n",
              " 'p',\n",
              " 'e',\n",
              " 'a',\n",
              " 't',\n",
              " 'e',\n",
              " 'd',\n",
              " 't',\n",
              " 'w',\n",
              " 'o',\n",
              " 't',\n",
              " 'i',\n",
              " 'm',\n",
              " 'e',\n",
              " 's',\n",
              " 'T',\n",
              " 'u',\n",
              " 'p',\n",
              " 'p',\n",
              " 'e',\n",
              " 'r',\n",
              " 'c',\n",
              " 'a',\n",
              " 's',\n",
              " 'e',\n",
              " 'a',\n",
              " 'n',\n",
              " 'd',\n",
              " 'l',\n",
              " 'o',\n",
              " 'w',\n",
              " 'e',\n",
              " 'r',\n",
              " 'c',\n",
              " 'a',\n",
              " 's',\n",
              " 'e',\n",
              " 'l',\n",
              " 'e',\n",
              " 't',\n",
              " 't',\n",
              " 'e',\n",
              " 'r',\n",
              " 'i',\n",
              " 's',\n",
              " 'r',\n",
              " 'e',\n",
              " 'p',\n",
              " 'e',\n",
              " 'a',\n",
              " 't',\n",
              " 'e',\n",
              " 'd',\n",
              " '1',\n",
              " 't',\n",
              " 'o',\n",
              " '2',\n",
              " 't',\n",
              " 'i',\n",
              " 'm',\n",
              " 'e',\n",
              " 's']"
            ]
          },
          "metadata": {
            "tags": []
          },
          "execution_count": 26
        }
      ]
    },
    {
      "cell_type": "code",
      "metadata": {
        "colab": {
          "base_uri": "https://localhost:8080/"
        },
        "id": "FAK2-hoa8h9h",
        "outputId": "ed8da12b-3d4d-4bc0-d3bd-a0256b9f3ba6"
      },
      "source": [
        "import re\r\n",
        "re.findall((\"T{2}|t{2}\"), (\"\"\"Using your text editor, find using regex and count in the Zen of\r\n",
        "Python (e.g., import this)\r\n",
        "Lines where there is letter a or o before . (dot)\r\n",
        "Alphanumeric symbols\r\n",
        "T letter (uppercase and lowercase) is repeated two times\r\n",
        "T (uppercase and lowercase) letter is repeated 1 to 2 times\r\n",
        "TT\"\"\"))"
      ],
      "execution_count": 27,
      "outputs": [
        {
          "output_type": "execute_result",
          "data": {
            "text/plain": [
              "['tt', 'tt', 'tt', 'TT']"
            ]
          },
          "metadata": {
            "tags": []
          },
          "execution_count": 27
        }
      ]
    },
    {
      "cell_type": "code",
      "metadata": {
        "colab": {
          "base_uri": "https://localhost:8080/"
        },
        "id": "DwM1-XCH8wsH",
        "outputId": "813162cb-248e-4b7e-9b76-13bf7fa8685c"
      },
      "source": [
        "import re\r\n",
        "re.findall((\"T{1,2}|t{1,2}\"), (\"\"\"Using your text editor, find using regex and count in the Zen of\r\n",
        "Python (e.g., import this)\r\n",
        "Lines where there is letter a or o before . (dot)\r\n",
        "Alphanumeric symbols\r\n",
        "T letter (uppercase and lowercase) is repeated two times\r\n",
        "T (uppercase and lowercase) letter is repeated 1 to 2 times\r\n",
        "TT\"\"\"))"
      ],
      "execution_count": 28,
      "outputs": [
        {
          "output_type": "execute_result",
          "data": {
            "text/plain": [
              "['t',\n",
              " 't',\n",
              " 't',\n",
              " 't',\n",
              " 't',\n",
              " 't',\n",
              " 't',\n",
              " 't',\n",
              " 't',\n",
              " 'tt',\n",
              " 't',\n",
              " 'T',\n",
              " 'tt',\n",
              " 't',\n",
              " 't',\n",
              " 't',\n",
              " 'T',\n",
              " 'tt',\n",
              " 't',\n",
              " 't',\n",
              " 't',\n",
              " 'TT']"
            ]
          },
          "metadata": {
            "tags": []
          },
          "execution_count": 28
        }
      ]
    },
    {
      "cell_type": "code",
      "metadata": {
        "colab": {
          "base_uri": "https://localhost:8080/"
        },
        "id": "2h0LPY-k3LLl",
        "outputId": "4a11e80b-51ec-4d0e-96b3-a92d0f631e90"
      },
      "source": [
        "import re\r\n",
        "def only_numbers(text):\r\n",
        "  text_2 = re.sub(\"[^0-9]\",\"\",text)\r\n",
        "  return(text_2)\r\n",
        "something = input(\"insert string to be replaced: \")\r\n",
        "print(only_numbers(something))\r\n",
        "print(\"length is: \"+str(len(only_numbers(something))))"
      ],
      "execution_count": 16,
      "outputs": [
        {
          "output_type": "stream",
          "text": [
            "insert string to be replaced: asduasdhgiasgdh7777\n",
            "7777\n",
            "length is: 4\n"
          ],
          "name": "stdout"
        }
      ]
    }
  ]
}