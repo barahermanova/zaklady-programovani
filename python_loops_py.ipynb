{
  "nbformat": 4,
  "nbformat_minor": 0,
  "metadata": {
    "colab": {
      "name": "python_loops_py",
      "provenance": [],
      "authorship_tag": "ABX9TyNdIxjcKdiHHMKhV429DsPp",
      "include_colab_link": true
    },
    "kernelspec": {
      "name": "python3",
      "display_name": "Python 3"
    }
  },
  "cells": [
    {
      "cell_type": "markdown",
      "metadata": {
        "id": "view-in-github",
        "colab_type": "text"
      },
      "source": [
        "<a href=\"https://colab.research.google.com/github/barahermanova/zaklady-programovani/blob/main/python_loops_py.ipynb\" target=\"_parent\"><img src=\"https://colab.research.google.com/assets/colab-badge.svg\" alt=\"Open In Colab\"/></a>"
      ]
    },
    {
      "cell_type": "code",
      "metadata": {
        "id": "6MhFQlwDncMO",
        "outputId": "572ace97-78a9-448d-d866-eea69e64ab7e",
        "colab": {
          "base_uri": "https://localhost:8080/"
        }
      },
      "source": [
        "names_list = ['Jiri', 'Jan', 'Marie', 'Petr', 'Jana', 'Josef',\n",
        "'Pavel', 'Martin', 'Jaroslav', 'Tomas', 'Eva', 'Miroslav',\n",
        "'Hana', 'Anna', 'Zdenek', 'Frantisek', 'Vaclav', 'Michal',\n",
        "'Lenka', 'Katerina']\n",
        "name = input(\"your name: \")\n",
        "if name in names_list: print ('yay')\n",
        "else: print ('nay')"
      ],
      "execution_count": 1,
      "outputs": [
        {
          "output_type": "stream",
          "text": [
            "your name: ahoj\n",
            "nay\n"
          ],
          "name": "stdout"
        }
      ]
    },
    {
      "cell_type": "code",
      "metadata": {
        "id": "NiEzmJsHnpqb",
        "outputId": "20db5e46-3e75-41ce-81aa-4bb430be0e45",
        "colab": {
          "base_uri": "https://localhost:8080/"
        }
      },
      "source": [
        "abc = {'a':'alfa', 'b':'bravo', 'c':'charlie', 'd':'delta',\n",
        "'e':'echo', 'f':'foxtrot', 'g':'golf', 'h':'hotel', 'i':'india',\n",
        "'j':'juliett', 'k':'kilo', 'l':'lima', 'm':'mike',\n",
        "'n':'november', 'o':'oscar', 'p':'papa', 'q':'quebec',\n",
        "'r':'romeo', 's':'sierra', 't':'tango', 'u':'uniform',\n",
        "'v':'victor', 'w':'whiskey', 'x':'x-ray', 'y':'yankee',\n",
        "'z':'zulu'}\n",
        "name = input(\"your name: \")\n",
        "for letter in name: print(abc[letter])"
      ],
      "execution_count": 2,
      "outputs": [
        {
          "output_type": "stream",
          "text": [
            "your name: bara\n",
            "bravo\n",
            "alfa\n",
            "romeo\n",
            "alfa\n"
          ],
          "name": "stdout"
        }
      ]
    },
    {
      "cell_type": "code",
      "metadata": {
        "id": "9LtoY2xnntZg",
        "outputId": "3d1ed2af-52f9-4173-8dae-65c069f4c5ff",
        "colab": {
          "base_uri": "https://localhost:8080/"
        }
      },
      "source": [
        "a = [[1,2,3], [4,5,6], [7,8,9]]\n",
        "b = []\n",
        "\n",
        "for i in range(len(a[0])):\n",
        "  b_row = []\n",
        "  for row in a:\n",
        "    b_row.append(row[i])\n",
        "  b.append(b_row)\n",
        "print(b)"
      ],
      "execution_count": 3,
      "outputs": [
        {
          "output_type": "stream",
          "text": [
            "[[1, 4, 7], [2, 5, 8], [3, 6, 9]]\n"
          ],
          "name": "stdout"
        }
      ]
    },
    {
      "cell_type": "code",
      "metadata": {
        "id": "zgRf6bx8nwSn",
        "outputId": "6a3b9b2b-4d53-44f8-923a-bd00c0277c5b",
        "colab": {
          "base_uri": "https://localhost:8080/"
        }
      },
      "source": [
        "shop = []\n",
        "while len(shop)<=20: \n",
        "  if len(shop)==20:\n",
        "    print('You have reached the limit of 20 items')\n",
        "    print(shop)\n",
        "    break\n",
        "  item = input('Add new item or write stoplist: ')\n",
        "  if item==('stoplist'):\n",
        "    print('There are '+str(i)+' items on your list')\n",
        "    print(shop)\n",
        "  elif item in shop: \n",
        "    print(item+' is already on the list')\n",
        "  else: \n",
        "    shop.append(item)\n",
        "    print(item+' has been added to the list')"
      ],
      "execution_count": 5,
      "outputs": [
        {
          "output_type": "stream",
          "text": [
            "Add new item or write stoplist: milk\n",
            "milk has been added to the list\n",
            "Add new item or write stoplist: apple\n",
            "apple has been added to the list\n",
            "Add new item or write stoplist: orange\n",
            "orange has been added to the list\n",
            "Add new item or write stoplist: tomato\n",
            "tomato has been added to the list\n",
            "Add new item or write stoplist: wine\n",
            "wine has been added to the list\n",
            "Add new item or write stoplist: a\n",
            "a has been added to the list\n",
            "Add new item or write stoplist: s\n",
            "s has been added to the list\n",
            "Add new item or write stoplist: d\n",
            "d has been added to the list\n",
            "Add new item or write stoplist: \n",
            " has been added to the list\n",
            "Add new item or write stoplist: g\n",
            "g has been added to the list\n",
            "Add new item or write stoplist: f\n",
            "f has been added to the list\n",
            "Add new item or write stoplist: r\n",
            "r has been added to the list\n",
            "Add new item or write stoplist: q\n",
            "q has been added to the list\n",
            "Add new item or write stoplist: w\n",
            "w has been added to the list\n",
            "Add new item or write stoplist: n\n",
            "n has been added to the list\n",
            "Add new item or write stoplist: d\n",
            "d is already on the list\n",
            "Add new item or write stoplist: r\n",
            "r is already on the list\n",
            "Add new item or write stoplist: w\n",
            "w is already on the list\n",
            "Add new item or write stoplist: q\n",
            "q is already on the list\n",
            "Add new item or write stoplist: a\n",
            "a is already on the list\n",
            "Add new item or write stoplist: s\n",
            "s is already on the list\n",
            "Add new item or write stoplist: d\n",
            "d is already on the list\n",
            "Add new item or write stoplist: v\n",
            "v has been added to the list\n",
            "Add new item or write stoplist: c\n",
            "c has been added to the list\n",
            "Add new item or write stoplist: b\n",
            "b has been added to the list\n",
            "Add new item or write stoplist: n\n",
            "n is already on the list\n",
            "Add new item or write stoplist: m\n",
            "m has been added to the list\n",
            "Add new item or write stoplist: l\n",
            "l has been added to the list\n",
            "You have reached the limit of 20 items\n",
            "['milk', 'apple', 'orange', 'tomato', 'wine', 'a', 's', 'd', '', 'g', 'f', 'r', 'q', 'w', 'n', 'v', 'c', 'b', 'm', 'l']\n"
          ],
          "name": "stdout"
        }
      ]
    },
    {
      "cell_type": "code",
      "metadata": {
        "id": "YJArnf2pn_28",
        "outputId": "8359909f-54b8-4dee-a276-1b33274dbd8d",
        "colab": {
          "base_uri": "https://localhost:8080/"
        }
      },
      "source": [
        "numbers = [1, 2, 3, 4, 5]\n",
        "for i in range(len(numbers)):\n",
        "  numbers[i]=numbers[i]*numbers[i]\n",
        "for j in range(len(numbers)):\n",
        "  numbers[j]=str(numbers[j])+' is my favourite number'\n",
        "  print(numbers[j])"
      ],
      "execution_count": 6,
      "outputs": [
        {
          "output_type": "stream",
          "text": [
            "1 is my favourite number\n",
            "4 is my favourite number\n",
            "9 is my favourite number\n",
            "16 is my favourite number\n",
            "25 is my favourite number\n"
          ],
          "name": "stdout"
        }
      ]
    },
    {
      "cell_type": "code",
      "metadata": {
        "id": "Gi2bOZ3roogj",
        "outputId": "903123e9-c91f-4219-faeb-a7d5bc78c76d",
        "colab": {
          "base_uri": "https://localhost:8080/"
        }
      },
      "source": [
        "seq = 'ACTGCTCAAG'\n",
        "apos = []\n",
        "n = 0\n",
        "for letter in seq:\n",
        "  if letter=='A':\n",
        "    apos.append(n)\n",
        "  n=n+1\n",
        "print(apos)"
      ],
      "execution_count": 7,
      "outputs": [
        {
          "output_type": "stream",
          "text": [
            "[0, 7, 8]\n"
          ],
          "name": "stdout"
        }
      ]
    },
    {
      "cell_type": "code",
      "metadata": {
        "id": "n305k53Aosyr",
        "outputId": "9525ce03-25a5-4a2f-a5f4-1300bef959bc",
        "colab": {
          "base_uri": "https://localhost:8080/"
        }
      },
      "source": [
        "seq = 'ACTGCTCAAG'\n",
        "apos = []\n",
        "n = seq.find('A')\n",
        "apos.append(n)\n",
        "for i in range(len(seq)):\n",
        "  n=seq.find('A',n+1)\n",
        "  if n==-1: break\n",
        "  apos.append(n)\n",
        "print(apos)"
      ],
      "execution_count": 8,
      "outputs": [
        {
          "output_type": "stream",
          "text": [
            "[0, 7, 8]\n"
          ],
          "name": "stdout"
        }
      ]
    },
    {
      "cell_type": "code",
      "metadata": {
        "id": "aJeysU4io2KG",
        "outputId": "4a294d59-c310-44e6-98b9-a0e4c58c5ca2",
        "colab": {
          "base_uri": "https://localhost:8080/"
        }
      },
      "source": [
        "scores = {'John' : 10, 'Emily' : 35, 'Matthew' : 50}\n",
        "y = list(scores.keys())\n",
        "x = list(scores.values())\n",
        "for i in range(len(x)):\n",
        "  x[i]=x[i]*3\n",
        "  scores[y[i]] = x[i]\n",
        "print(scores)"
      ],
      "execution_count": 9,
      "outputs": [
        {
          "output_type": "stream",
          "text": [
            "{'John': 30, 'Emily': 105, 'Matthew': 150}\n"
          ],
          "name": "stdout"
        }
      ]
    }
  ]
}